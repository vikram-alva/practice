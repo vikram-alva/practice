{
 "cells": [
  {
   "cell_type": "markdown",
   "id": "b7aa2c05",
   "metadata": {
    "id": "b7aa2c05"
   },
   "source": [
    "# LOOPS"
   ]
  },
  {
   "cell_type": "markdown",
   "id": "c626ed9d",
   "metadata": {
    "id": "c626ed9d"
   },
   "source": [
    "## While Loop:"
   ]
  },
  {
   "cell_type": "raw",
   "id": "f55d20ee",
   "metadata": {
    "id": "f55d20ee"
   },
   "source": [
    "In python, while loop is used to execute a block of statements \n",
    "repeatedly until a given a condition is satisfied. \n",
    "And when the condition becomes false, the line immediately \n",
    "after the loop in program is executed."
   ]
  },
  {
   "attachments": {
    "image.png": {
     "image/png": "[encoded data removed]"
    }
   },
   "cell_type": "markdown",
   "id": "6f545679",
   "metadata": {},
   "source": [
    "![image.png](attachment:image.png)"
   ]
  },
  {
   "cell_type": "code",
   "execution_count": 2,
   "id": "03357265",
   "metadata": {
    "id": "03357265"
   },
   "outputs": [
    {
     "name": "stdout",
     "output_type": "stream",
     "text": [
      "1\n",
      "2\n",
      "3\n"
     ]
    }
   ],
   "source": [
    "# while loop to print first 3 numbers\n",
    "start=1\n",
    "while start<=3:\n",
    "    print(start)\n",
    "    start=start+1"
   ]
  },
  {
   "cell_type": "code",
   "execution_count": 1,
   "id": "3ae310d7",
   "metadata": {
    "id": "3ae310d7"
   },
   "outputs": [
    {
     "name": "stdout",
     "output_type": "stream",
     "text": [
      "While condition is true 1\n",
      "While condition is true 2\n",
      "While condition is true 3\n",
      "While condition is true 4\n",
      "While condition is true 5\n",
      "while condition is false 6\n"
     ]
    }
   ],
   "source": [
    "i=1\n",
    "while i<6:\n",
    "    print('While condition is true',i)\n",
    "    i+=1 # same as i=i+1\n",
    "print(\"while condition is false\",i)  #this statement executes when condition becomes false"
   ]
  },
  {
   "cell_type": "code",
   "execution_count": 53,
   "id": "1d3818fc",
   "metadata": {
    "id": "1d3818fc"
   },
   "outputs": [
    {
     "name": "stdout",
     "output_type": "stream",
     "text": [
      "1\n",
      "2\n",
      "3\n"
     ]
    }
   ],
   "source": [
    "# While loop with break.\n",
    "#It is used to stop loop or terminate the loop even if while condition is true\n",
    "i=1\n",
    "while i<6:\n",
    "    print(i)\n",
    "    if i==3:\n",
    "        break\n",
    "    i+=1\n",
    "    \n",
    "    "
   ]
  },
  {
   "cell_type": "code",
   "execution_count": 9,
   "id": "1a240bae",
   "metadata": {
    "id": "1a240bae"
   },
   "outputs": [
    {
     "name": "stdout",
     "output_type": "stream",
     "text": [
      "1\n",
      "2\n",
      "4\n",
      "5\n",
      "6\n"
     ]
    }
   ],
   "source": [
    "# While loop with continue statement. \n",
    "#will continue checking loop condition leaving other statements within the loop\n",
    "i=0\n",
    "while i<6:\n",
    "    i+=1\n",
    "    if i==3:\n",
    "        continue\n",
    "        \n",
    "    print(i)"
   ]
  },
  {
   "cell_type": "code",
   "execution_count": 56,
   "id": "379d5289",
   "metadata": {
    "id": "379d5289"
   },
   "outputs": [
    {
     "name": "stdout",
     "output_type": "stream",
     "text": [
      "While loop condition is false\n"
     ]
    }
   ],
   "source": [
    "# While loop with else statement.\n",
    "#When the condition becomes false, statements under else will execute\n",
    "i=7\n",
    "while i <6:\n",
    "    print(i)\n",
    "    i+=1\n",
    "else:\n",
    "    print('While loop condition is false')"
   ]
  },
  {
   "cell_type": "markdown",
   "id": "a5a173b3",
   "metadata": {
    "id": "a5a173b3"
   },
   "source": [
    "# FOR LOOP\n"
   ]
  },
  {
   "cell_type": "raw",
   "id": "2ece8894",
   "metadata": {
    "id": "2ece8894"
   },
   "source": [
    "Python for loops are used to loop through an iterable object\n",
    "(like a list, tuple, set, etc.) and perform the same action for each \n",
    "item/element. "
   ]
  },
  {
   "cell_type": "code",
   "execution_count": 2,
   "id": "3c72273a",
   "metadata": {
    "id": "3c72273a"
   },
   "outputs": [
    {
     "name": "stdout",
     "output_type": "stream",
     "text": [
      "18\n",
      "0\n",
      "24\n",
      "68\n",
      "110\n"
     ]
    }
   ],
   "source": [
    "list=[9,0,12,34,55]\n",
    "for i in list:\n",
    "    print(i*2)"
   ]
  },
  {
   "cell_type": "code",
   "execution_count": 5,
   "id": "3e009e99",
   "metadata": {
    "id": "3e009e99",
    "scrolled": true
   },
   "outputs": [
    {
     "name": "stdout",
     "output_type": "stream",
     "text": [
      "s p i d e r   m a n "
     ]
    }
   ],
   "source": [
    "s='SPIDER MAN'\n",
    "for x in s:\n",
    "    print(x.lower(),end=\" \")"
   ]
  },
  {
   "cell_type": "code",
   "execution_count": 12,
   "id": "7ed5a2c2",
   "metadata": {},
   "outputs": [
    {
     "name": "stdout",
     "output_type": "stream",
     "text": [
      "A\n",
      "S\n",
      "D\n",
      "F\n"
     ]
    }
   ],
   "source": [
    "s=['A','S','D','F']\n",
    "for x in s:\n",
    "    print(x)"
   ]
  },
  {
   "cell_type": "code",
   "execution_count": 6,
   "id": "c358a6a2",
   "metadata": {},
   "outputs": [],
   "source": [
    "## Range function\n",
    "# range is a generator function which yields numbers from \n",
    "#specified start to end point"
   ]
  },
  {
   "cell_type": "code",
   "execution_count": 16,
   "id": "8b29b31c",
   "metadata": {
    "id": "8b29b31c"
   },
   "outputs": [
    {
     "name": "stdout",
     "output_type": "stream",
     "text": [
      "1 2 3 4 5 6 7 8 9 10 "
     ]
    }
   ],
   "source": [
    "for i in range(1,11): \n",
    "    print(i,end=\" \")"
   ]
  },
  {
   "cell_type": "code",
   "execution_count": 8,
   "id": "8f983974",
   "metadata": {
    "collapsed": true
   },
   "outputs": [
    {
     "name": "stdout",
     "output_type": "stream",
     "text": [
      "1\n",
      "3\n",
      "5\n",
      "7\n",
      "9\n",
      "11\n",
      "13\n",
      "15\n",
      "17\n",
      "19\n"
     ]
    }
   ],
   "source": [
    "for i in range(1,20,2) :\n",
    "    print(i)"
   ]
  },
  {
   "cell_type": "code",
   "execution_count": 2,
   "id": "d6e5e171",
   "metadata": {
    "collapsed": true
   },
   "outputs": [
    {
     "name": "stdout",
     "output_type": "stream",
     "text": [
      "2\n",
      "4\n",
      "6\n",
      "8\n",
      "10\n"
     ]
    }
   ],
   "source": [
    "#Even numbers generation\n",
    "for i in range(2,11,2):\n",
    "    print (i)"
   ]
  },
  {
   "cell_type": "code",
   "execution_count": 58,
   "id": "d72223f0",
   "metadata": {
    "collapsed": true
   },
   "outputs": [
    {
     "name": "stdout",
     "output_type": "stream",
     "text": [
      "20\n",
      "19\n",
      "18\n",
      "17\n",
      "16\n",
      "15\n",
      "14\n",
      "13\n",
      "12\n",
      "11\n",
      "10\n",
      "9\n",
      "8\n",
      "7\n",
      "6\n",
      "5\n",
      "4\n",
      "3\n",
      "2\n",
      "1\n"
     ]
    }
   ],
   "source": [
    "#to print numbers in reverse\n",
    "for i in range(20,0,-1): \n",
    "    # lower limit,upper limit,step\n",
    "    print(i)"
   ]
  },
  {
   "cell_type": "code",
   "execution_count": 9,
   "id": "41de1512",
   "metadata": {},
   "outputs": [],
   "source": [
    "# Nested loops"
   ]
  },
  {
   "cell_type": "code",
   "execution_count": 35,
   "id": "be482593",
   "metadata": {
    "id": "be482593"
   },
   "outputs": [],
   "source": [
    "list1=['Maths','Science']\n",
    "list2=[78,90,70]"
   ]
  },
  {
   "cell_type": "code",
   "execution_count": 36,
   "id": "836a32d0",
   "metadata": {
    "id": "836a32d0"
   },
   "outputs": [
    {
     "name": "stdout",
     "output_type": "stream",
     "text": [
      "Maths 78\n",
      "Maths 90\n",
      "Maths 70\n",
      "Science 78\n",
      "Science 90\n",
      "Science 70\n"
     ]
    }
   ],
   "source": [
    "for i in list1: # Outer loop\n",
    "    for k in list2: # inner loop\n",
    "        print(i,k)"
   ]
  },
  {
   "cell_type": "code",
   "execution_count": 37,
   "id": "9147886f",
   "metadata": {
    "id": "9147886f"
   },
   "outputs": [],
   "source": [
    "list = [34,66,43,23,27,88,74,16]"
   ]
  },
  {
   "cell_type": "code",
   "execution_count": 38,
   "id": "e1249b26",
   "metadata": {
    "id": "e1249b26"
   },
   "outputs": [
    {
     "name": "stdout",
     "output_type": "stream",
     "text": [
      "34 is even\n",
      "66 is even\n",
      "43 is odd\n",
      "23 is odd\n",
      "27 is odd\n",
      "88 is even\n",
      "74 is even\n",
      "16 is even\n"
     ]
    }
   ],
   "source": [
    "for c in list:\n",
    "    if(c%2==0):\n",
    "        print(c,'is even')\n",
    "    else:\n",
    "        print(c,'is odd')"
   ]
  },
  {
   "cell_type": "markdown",
   "id": "27b23a5e",
   "metadata": {
    "id": "27b23a5e"
   },
   "source": [
    "# Function"
   ]
  },
  {
   "cell_type": "raw",
   "id": "a0398f55",
   "metadata": {
    "id": "72f1d78b"
   },
   "source": [
    "A function is a block of organized code written to carry out a specified task.\n",
    "\n",
    "Functions help break our program into smaller and modular chunks for better readability. \n",
    "\n",
    "Information can be passed into a function as arguments.\n",
    "\n",
    "Parameters are specified after the function name inside the parentheses.\n",
    "\n",
    "We can add as many parameters as we want. Parameters must be separated with a comma. A function may or may not return data.\n",
    "\n",
    "In Python a function is defined using the def keyword\n"
   ]
  },
  {
   "cell_type": "markdown",
   "id": "b7c9fddd",
   "metadata": {
    "id": "b7c9fddd"
   },
   "source": [
    "## Parameter VS Argument"
   ]
  },
  {
   "cell_type": "raw",
   "id": "df415297",
   "metadata": {
    "id": "df415297"
   },
   "source": [
    "A parameter is the variable listed inside the parentheses in the function definition. An argument is the value that is sent to the function when it is called."
   ]
  },
  {
   "cell_type": "markdown",
   "id": "d5ca03dc",
   "metadata": {
    "id": "d5ca03dc"
   },
   "source": [
    "## Three types of functions in Python:-\n",
    " \n",
    "1) Built-in function :- Python predefined functions that are readily available for use like min() , max() , sum() , print() etc.\n",
    "\n",
    "2) User-Defined Functions:- Function that we define ourselves to perform a specific task.\n",
    "\n",
    "3) Anonymous functions : Function that is defined without a name. Anonymous functions are also called as lambda functions. They are not declared with the def keyword.\n"
   ]
  },
  {
   "cell_type": "code",
   "execution_count": 14,
   "id": "9275a626",
   "metadata": {
    "id": "9275a626"
   },
   "outputs": [],
   "source": [
    "#  Syntax Definition of function\n",
    "def name_of_function():\n",
    "    print('Hello') #task done by function"
   ]
  },
  {
   "cell_type": "code",
   "execution_count": 15,
   "id": "097d047d",
   "metadata": {
    "id": "097d047d"
   },
   "outputs": [
    {
     "name": "stdout",
     "output_type": "stream",
     "text": [
      "Hello\n"
     ]
    }
   ],
   "source": [
    "# Syntax Calling the function\n",
    "name_of_function()"
   ]
  },
  {
   "cell_type": "code",
   "execution_count": 18,
   "id": "5f439216",
   "metadata": {},
   "outputs": [],
   "source": [
    "def greet():\n",
    "    print(\"Good morning!\")"
   ]
  },
  {
   "cell_type": "code",
   "execution_count": 19,
   "id": "9ea76c98",
   "metadata": {},
   "outputs": [
    {
     "name": "stdout",
     "output_type": "stream",
     "text": [
      "Good morning!\n",
      "Good morning!\n"
     ]
    }
   ],
   "source": [
    "greet()\n",
    "greet()"
   ]
  },
  {
   "cell_type": "code",
   "execution_count": 45,
   "id": "61384a05",
   "metadata": {
    "id": "61384a05"
   },
   "outputs": [],
   "source": [
    "\n",
    "def empname(a):\n",
    "    print(a)"
   ]
  },
  {
   "cell_type": "code",
   "execution_count": 46,
   "id": "2f95eb1f",
   "metadata": {},
   "outputs": [
    {
     "name": "stdout",
     "output_type": "stream",
     "text": [
      "siya\n"
     ]
    }
   ],
   "source": [
    "empname(\"siya\")"
   ]
  },
  {
   "cell_type": "code",
   "execution_count": 19,
   "id": "25378a29",
   "metadata": {
    "id": "25378a29"
   },
   "outputs": [
    {
     "data": {
      "text/plain": [
       "6"
      ]
     },
     "execution_count": 19,
     "metadata": {},
     "output_type": "execute_result"
    }
   ],
   "source": [
    "#return keyword sends function's result back to the caller\n",
    "def rectangle(l,b):\n",
    "    area=l*b\n",
    "    return area\n",
    "\n",
    "rectangle(1,6)"
   ]
  },
  {
   "cell_type": "code",
   "execution_count": 70,
   "id": "ccea62a7",
   "metadata": {
    "id": "ccea62a7"
   },
   "outputs": [
    {
     "data": {
      "text/plain": [
       "30"
      ]
     },
     "execution_count": 70,
     "metadata": {},
     "output_type": "execute_result"
    }
   ],
   "source": [
    "rectangle(5,6)\n"
   ]
  },
  {
   "cell_type": "code",
   "execution_count": 37,
   "id": "c59ddd8f",
   "metadata": {},
   "outputs": [
    {
     "data": {
      "text/plain": [
       "24"
      ]
     },
     "execution_count": 37,
     "metadata": {},
     "output_type": "execute_result"
    }
   ],
   "source": [
    "rectangle(12,2)"
   ]
  },
  {
   "cell_type": "code",
   "execution_count": 82,
   "id": "f0561ecf",
   "metadata": {
    "id": "f0561ecf"
   },
   "outputs": [],
   "source": [
    "def details(name,userid,country):  \n",
    "    #  Function  to  print  User  details\n",
    "    # return name,userid,country\n",
    "    print(\"Name:\",name)\n",
    "    print(\"User id:\",userid)\n",
    "    print(\"Country:\",country)"
   ]
  },
  {
   "cell_type": "code",
   "execution_count": 83,
   "id": "d151795a",
   "metadata": {
    "id": "d151795a"
   },
   "outputs": [
    {
     "name": "stdout",
     "output_type": "stream",
     "text": [
      "Name: Danny\n",
      "User id: 567\n",
      "Country: UK\n"
     ]
    }
   ],
   "source": [
    "details('Danny',567,'UK')"
   ]
  },
  {
   "cell_type": "code",
   "execution_count": 84,
   "id": "2a1359bc",
   "metadata": {},
   "outputs": [
    {
     "name": "stdout",
     "output_type": "stream",
     "text": [
      "Name: John\n",
      "User id: Data123\n",
      "Country: India\n"
     ]
    }
   ],
   "source": [
    "details('John', 'Data123' , 'India')"
   ]
  },
  {
   "cell_type": "markdown",
   "id": "35775e03",
   "metadata": {
    "id": "b5224979"
   },
   "source": [
    "Task:-Write function to check whether given number is odd or even. Take input from user"
   ]
  },
  {
   "cell_type": "code",
   "execution_count": 10,
   "id": "3c17778f",
   "metadata": {
    "id": "3c17778f"
   },
   "outputs": [],
   "source": [
    "def evenorodd(a):\n",
    "    if a%2==0:\n",
    "        print('The number is even')\n",
    "    else:\n",
    "        print('The number is odd')"
   ]
  },
  {
   "cell_type": "code",
   "execution_count": 11,
   "id": "60c941ee",
   "metadata": {
    "id": "60c941ee"
   },
   "outputs": [
    {
     "name": "stdout",
     "output_type": "stream",
     "text": [
      "Enter your number13\n",
      "The number is odd\n"
     ]
    }
   ],
   "source": [
    "b=int(input('Enter your number'))\n",
    "evenorodd(b)"
   ]
  },
  {
   "cell_type": "code",
   "execution_count": 89,
   "id": "6bcf8445",
   "metadata": {
    "id": "6bcf8445"
   },
   "outputs": [],
   "source": [
    "##Python Function with no parameters and no return value \n",
    "##will throw an error if arguments are passed during call\n",
    "\n",
    "def noargument():\n",
    "    return"
   ]
  },
  {
   "cell_type": "code",
   "execution_count": 90,
   "id": "c5fc7ca1",
   "metadata": {
    "collapsed": true,
    "id": "c5fc7ca1"
   },
   "outputs": [
    {
     "ename": "TypeError",
     "evalue": "noargument() takes 0 positional arguments but 1 was given",
     "output_type": "error",
     "traceback": [
      "\u001b[1;31m---------------------------------------------------------------------------\u001b[0m",
      "\u001b[1;31mTypeError\u001b[0m                                 Traceback (most recent call last)",
      "Input \u001b[1;32mIn [90]\u001b[0m, in \u001b[0;36m<cell line: 1>\u001b[1;34m()\u001b[0m\n\u001b[1;32m----> 1\u001b[0m \u001b[43mnoargument\u001b[49m\u001b[43m(\u001b[49m\u001b[38;5;241;43m4\u001b[39;49m\u001b[43m)\u001b[49m\n",
      "\u001b[1;31mTypeError\u001b[0m: noargument() takes 0 positional arguments but 1 was given"
     ]
    }
   ],
   "source": [
    "noargument(4)"
   ]
  },
  {
   "cell_type": "code",
   "execution_count": 86,
   "id": "5c10ef4e",
   "metadata": {
    "id": "5c10ef4e"
   },
   "outputs": [],
   "source": [
    "## Function with no parameter and with a Return value will throw an error\n",
    "## when argument is passed during call\n",
    "def argu():\n",
    "    print('This is no argument but return value function')"
   ]
  },
  {
   "cell_type": "code",
   "execution_count": 85,
   "id": "92185096",
   "metadata": {
    "collapsed": true,
    "id": "92185096"
   },
   "outputs": [
    {
     "ename": "TypeError",
     "evalue": "argu() takes 0 positional arguments but 1 was given",
     "output_type": "error",
     "traceback": [
      "\u001b[1;31m---------------------------------------------------------------------------\u001b[0m",
      "\u001b[1;31mTypeError\u001b[0m                                 Traceback (most recent call last)",
      "Cell \u001b[1;32mIn[85], line 1\u001b[0m\n\u001b[1;32m----> 1\u001b[0m argu(\u001b[38;5;241m6\u001b[39m)\n",
      "\u001b[1;31mTypeError\u001b[0m: argu() takes 0 positional arguments but 1 was given"
     ]
    }
   ],
   "source": [
    "argu(6)"
   ]
  },
  {
   "cell_type": "code",
   "execution_count": 12,
   "id": "0fa1ca02",
   "metadata": {
    "id": "0fa1ca02"
   },
   "outputs": [],
   "source": [
    "##Python Function with argument & parameter but No Return value,\n",
    "#will return result as empty or null\n",
    "\n",
    "def noreturn(a): ## a is parameter or input to the function\n",
    "    return "
   ]
  },
  {
   "cell_type": "code",
   "execution_count": 13,
   "id": "5c440c57",
   "metadata": {
    "id": "5c440c57"
   },
   "outputs": [],
   "source": [
    "\n",
    "noreturn(6)\n"
   ]
  },
  {
   "cell_type": "markdown",
   "id": "7c6930aa",
   "metadata": {},
   "source": [
    "### Docstrings:\n",
    "1)\tDocstrings provide a convenient way of associating documentation with functions,classes, methods or modules.\n",
    "\n",
    "2)\tThey appear right after the definition of a function, method, class, or module.\n"
   ]
  },
  {
   "cell_type": "code",
   "execution_count": 14,
   "id": "186a3c97",
   "metadata": {
    "id": "186a3c97"
   },
   "outputs": [],
   "source": [
    "## Function with argument and return value\n",
    "def squareofnum(a):\n",
    "    ''' HELLO THIS IS DOC STRING'''\n",
    "    return a**2\n",
    "  "
   ]
  },
  {
   "cell_type": "code",
   "execution_count": 14,
   "id": "a4e55d11",
   "metadata": {
    "id": "a4e55d11",
    "scrolled": true
   },
   "outputs": [
    {
     "data": {
      "text/plain": [
       "100"
      ]
     },
     "execution_count": 14,
     "metadata": {},
     "output_type": "execute_result"
    }
   ],
   "source": [
    "squareofnum(10)"
   ]
  },
  {
   "cell_type": "code",
   "execution_count": 109,
   "id": "de00c4e3",
   "metadata": {},
   "outputs": [
    {
     "name": "stdout",
     "output_type": "stream",
     "text": [
      " HELLO THIS IS DOC STRING\n"
     ]
    }
   ],
   "source": [
    "print(squareofnum.__doc__) #nameoffunction.__doc__ "
   ]
  },
  {
   "cell_type": "markdown",
   "id": "1e2b84f0",
   "metadata": {
    "id": "1e2b84f0"
   },
   "source": [
    "## Lambda\n",
    "\n",
    " 1) A lambda function is an anonymous function (function without a name).\n",
    "\n",
    " 2) Lambda functions can have any number of arguments but only one expression. \n",
    " The expression is evaluated and returned.\n",
    "\n",
    " 3) We use lambda functions when we require a nameless function for a short period of time.\n"
   ]
  },
  {
   "attachments": {
    "image.png": {
     "image/png": "[encoded data removed]"
    }
   },
   "cell_type": "markdown",
   "id": "01a9be97",
   "metadata": {},
   "source": [
    "![image.png](attachment:image.png)"
   ]
  },
  {
   "cell_type": "code",
   "execution_count": 47,
   "id": "c5b1a578",
   "metadata": {
    "id": "c5b1a578"
   },
   "outputs": [],
   "source": [
    "addition = lambda  a : a  + 10\n",
    "# This lambda function adds value 10 to an argument"
   ]
  },
  {
   "cell_type": "code",
   "execution_count": 48,
   "id": "270aa315",
   "metadata": {
    "id": "270aa315"
   },
   "outputs": [
    {
     "name": "stdout",
     "output_type": "stream",
     "text": [
      "22\n"
     ]
    }
   ],
   "source": [
    "print(addition(12))"
   ]
  },
  {
   "cell_type": "code",
   "execution_count": 50,
   "id": "4c661fb0",
   "metadata": {
    "id": "4c661fb0"
   },
   "outputs": [],
   "source": [
    "product  =  lambda  a,  b  :  a  *  b  \n",
    "#This  lambda  function  takes  two  arguments  (a,b)  \n",
    "#and do the multiplication"
   ]
  },
  {
   "cell_type": "code",
   "execution_count": 51,
   "id": "1be20ae3",
   "metadata": {},
   "outputs": [
    {
     "name": "stdout",
     "output_type": "stream",
     "text": [
      "8\n",
      "40\n"
     ]
    }
   ],
   "source": [
    "print(product(4,  2))\n",
    "print(product(10,  4))"
   ]
  },
  {
   "cell_type": "markdown",
   "id": "b49795bf",
   "metadata": {
    "id": "b49795bf"
   },
   "source": [
    "## Filter Function\n",
    "\n"
   ]
  },
  {
   "cell_type": "raw",
   "id": "6e9d5c6f",
   "metadata": {
    "id": "6e9d5c6f"
   },
   "source": [
    "The filter() method filters the given sequence with the help of a function that tests each element in the sequence to be true or not."
   ]
  },
  {
   "cell_type": "code",
   "execution_count": 1,
   "id": "08c7354c",
   "metadata": {
    "id": "08c7354c",
    "outputId": "7fe19fc6-dee1-488d-9042-e70a86422a9d"
   },
   "outputs": [
    {
     "name": "stdout",
     "output_type": "stream",
     "text": [
      "[1, 3, 5, 13]\n",
      "[0, 2, 8]\n"
     ]
    }
   ],
   "source": [
    "# a list contains both even and odd numbers. \n",
    "seq = [0, 1, 2, 3, 5, 8, 13]\n",
    "  \n",
    "# result contains odd numbers of the list\n",
    "result = filter(lambda x: x % 2 != 0, seq)\n",
    "print(list(result))\n",
    "  \n",
    "# result contains even numbers of the list\n",
    "result = filter(lambda x: x % 2 == 0, seq)\n",
    "print(list(result))"
   ]
  },
  {
   "cell_type": "code",
   "execution_count": 3,
   "id": "a5426383",
   "metadata": {},
   "outputs": [
    {
     "name": "stdout",
     "output_type": "stream",
     "text": [
      "[5, 4, 12]\n",
      "[-2, -3, -7]\n"
     ]
    }
   ],
   "source": [
    "x=[-2,5,4,12,-3,-7]\n",
    "result_positive=filter(lambda a:a>0,x)\n",
    "print(list(result_positive))\n",
    "\n",
    "result_negative=filter(lambda a:a<0,x)\n",
    "print(list(result_negative))"
   ]
  },
  {
   "cell_type": "markdown",
   "id": "4eb23853",
   "metadata": {
    "id": "4eb23853"
   },
   "source": [
    "## Map Function"
   ]
  },
  {
   "cell_type": "raw",
   "id": "3c233d8d",
   "metadata": {
    "id": "3c233d8d"
   },
   "source": [
    "map() function returns a map object(which is an iterator) of the results \n",
    "after applying the given function to each item of a given \n",
    "iterable (list, tuple etc.)\n",
    "\n"
   ]
  },
  {
   "cell_type": "code",
   "execution_count": 1,
   "id": "6f118feb",
   "metadata": {
    "id": "6f118feb",
    "outputId": "00e5d4ed-bd17-4ee0-9c92-768c7190f27d"
   },
   "outputs": [
    {
     "name": "stdout",
     "output_type": "stream",
     "text": [
      "[2, 4, 6, 8]\n"
     ]
    }
   ],
   "source": [
    "def addition(n):\n",
    "    return n + n\n",
    "  \n",
    "numbers = (1, 2, 3, 4)\n",
    "result = map(addition, numbers) \n",
    "#2 parameter, a function name & name of iterable\n",
    "print(list(result))"
   ]
  },
  {
   "cell_type": "code",
   "execution_count": 13,
   "id": "9b787705",
   "metadata": {
    "id": "9b787705"
   },
   "outputs": [
    {
     "name": "stdout",
     "output_type": "stream",
     "text": [
      "[20, 44, 31, 24]\n"
     ]
    }
   ],
   "source": [
    "# Adding all numbers by 10 using map and lambda\n",
    "numbers = [10, 21, 34, 14]\n",
    "result = map(lambda x: x + 10, numbers)\n",
    "print(list(result))"
   ]
  },
  {
   "cell_type": "code",
   "execution_count": 5,
   "id": "bd187431",
   "metadata": {
    "id": "bd187431",
    "outputId": "e0e291d1-09fd-4733-a33e-e6350c426e89"
   },
   "outputs": [
    {
     "name": "stdout",
     "output_type": "stream",
     "text": [
      "[5, 7, 9]\n"
     ]
    }
   ],
   "source": [
    "# Add two lists using map and lambda\n",
    "  \n",
    "numbers1 = [1, 2, 3]\n",
    "numbers2 = [4, 5,6]\n",
    "  \n",
    "result = map(lambda x, y: x + y, numbers1, numbers2)\n",
    "print(list(result))"
   ]
  },
  {
   "cell_type": "markdown",
   "id": "74baea00",
   "metadata": {
    "id": "74baea00"
   },
   "source": [
    "## Reduce Function"
   ]
  },
  {
   "cell_type": "raw",
   "id": "c01df593",
   "metadata": {
    "id": "c01df593"
   },
   "source": [
    "The reduce(fun,seq) function is used to apply a particular function passed in\n",
    "its argument to all of the list elements mentioned in the sequence passed \n",
    "along.This function is defined in “functools” module."
   ]
  },
  {
   "cell_type": "code",
   "execution_count": 11,
   "id": "467efe2d",
   "metadata": {
    "id": "467efe2d",
    "outputId": "3f8a2eb2-7fc2-47a9-d45e-d8d0b43a5b50"
   },
   "outputs": [
    {
     "name": "stdout",
     "output_type": "stream",
     "text": [
      "The sum of the list elements is :  24\n"
     ]
    }
   ],
   "source": [
    "# importing functools for reduce()\n",
    "import functools\n",
    " # initializing list\n",
    "lis = [1, 10, 5, 6, 2]\n",
    " # using reduce to compute sum of list\n",
    "print(\"The sum of the list elements is : \", end=\" \")\n",
    "print(functools.reduce(lambda a, b: a+b, lis))\n",
    " \n"
   ]
  },
  {
   "cell_type": "code",
   "execution_count": 140,
   "id": "af273d1f",
   "metadata": {
    "id": "af273d1f",
    "outputId": "c5aec0ea-34d3-410b-d939-c8f982236aec"
   },
   "outputs": [
    {
     "name": "stdout",
     "output_type": "stream",
     "text": [
      "The maximum element of the list is : \n",
      "10\n"
     ]
    }
   ],
   "source": [
    "# using reduce to compute maximum element from list\n",
    "print(\"The maximum element of the list is : \")\n",
    "print(functools.reduce(lambda a, b: a if a > b else b, lis))"
   ]
  }
 ],
 "metadata": {
  "colab": {
   "provenance": []
  },
  "kernelspec": {
   "display_name": "Python 3 (ipykernel)",
   "language": "python",
   "name": "python3"
  },
  "language_info": {
   "codemirror_mode": {
    "name": "ipython",
    "version": 3
   },
   "file_extension": ".py",
   "mimetype": "text/x-python",
   "name": "python",
   "nbconvert_exporter": "python",
   "pygments_lexer": "ipython3",
   "version": "3.11.5"
  }
 },
 "nbformat": 4,
 "nbformat_minor": 5
}
